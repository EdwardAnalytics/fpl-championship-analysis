{
 "cells": [
  {
   "cell_type": "code",
   "execution_count": 4,
   "metadata": {},
   "outputs": [],
   "source": [
    "# Change directory to level up to import functions\n",
    "import os\n",
    "os.chdir('..')"
   ]
  },
  {
   "cell_type": "code",
   "execution_count": 2,
   "metadata": {},
   "outputs": [],
   "source": [
    "import pandas as pd"
   ]
  },
  {
   "cell_type": "code",
   "execution_count": 5,
   "metadata": {},
   "outputs": [],
   "source": [
    "df_goals = pd.read_csv('data/championship_goals/joined/seasons_joined.csv')\n",
    "fpl_df = pd.read_csv(\"data/fpl_data/joined/seasons_joined.csv\")"
   ]
  },
  {
   "cell_type": "code",
   "execution_count": 6,
   "metadata": {},
   "outputs": [],
   "source": [
    "# Sort the DataFrame by name, team, and season_start\n",
    "fpl_df = fpl_df.sort_values(by=['name', 'team', 'season_start'])\n",
    "\n",
    "# Drop duplicates for each player in each team, keeping only the first instance (i.e. earliest season)\n",
    "fpl_df = fpl_df.drop_duplicates(subset=['name', 'team'], keep='first')\n"
   ]
  },
  {
   "cell_type": "code",
   "execution_count": 8,
   "metadata": {},
   "outputs": [
    {
     "name": "stdout",
     "output_type": "stream",
     "text": [
      "2015\n"
     ]
    },
    {
     "name": "stderr",
     "output_type": "stream",
     "text": [
      "C:\\Users\\edwar\\AppData\\Local\\Temp\\ipykernel_4892\\2621328893.py:24: SettingWithCopyWarning: \n",
      "A value is trying to be set on a copy of a slice from a DataFrame.\n",
      "Try using .loc[row_indexer,col_indexer] = value instead\n",
      "\n",
      "See the caveats in the documentation: https://pandas.pydata.org/pandas-docs/stable/user_guide/indexing.html#returning-a-view-versus-a-copy\n",
      "  df_goals_season['matched_name'] = df_goals_season['Player'].apply(lambda x: fuzzy_match(x, fpl_next_season['name'].tolist()))\n"
     ]
    },
    {
     "name": "stdout",
     "output_type": "stream",
     "text": [
      "2016\n"
     ]
    },
    {
     "name": "stderr",
     "output_type": "stream",
     "text": [
      "C:\\Users\\edwar\\AppData\\Local\\Temp\\ipykernel_4892\\2621328893.py:24: SettingWithCopyWarning: \n",
      "A value is trying to be set on a copy of a slice from a DataFrame.\n",
      "Try using .loc[row_indexer,col_indexer] = value instead\n",
      "\n",
      "See the caveats in the documentation: https://pandas.pydata.org/pandas-docs/stable/user_guide/indexing.html#returning-a-view-versus-a-copy\n",
      "  df_goals_season['matched_name'] = df_goals_season['Player'].apply(lambda x: fuzzy_match(x, fpl_next_season['name'].tolist()))\n"
     ]
    },
    {
     "name": "stdout",
     "output_type": "stream",
     "text": [
      "2017\n"
     ]
    },
    {
     "name": "stderr",
     "output_type": "stream",
     "text": [
      "C:\\Users\\edwar\\AppData\\Local\\Temp\\ipykernel_4892\\2621328893.py:24: SettingWithCopyWarning: \n",
      "A value is trying to be set on a copy of a slice from a DataFrame.\n",
      "Try using .loc[row_indexer,col_indexer] = value instead\n",
      "\n",
      "See the caveats in the documentation: https://pandas.pydata.org/pandas-docs/stable/user_guide/indexing.html#returning-a-view-versus-a-copy\n",
      "  df_goals_season['matched_name'] = df_goals_season['Player'].apply(lambda x: fuzzy_match(x, fpl_next_season['name'].tolist()))\n"
     ]
    },
    {
     "name": "stdout",
     "output_type": "stream",
     "text": [
      "2018\n"
     ]
    },
    {
     "name": "stderr",
     "output_type": "stream",
     "text": [
      "C:\\Users\\edwar\\AppData\\Local\\Temp\\ipykernel_4892\\2621328893.py:24: SettingWithCopyWarning: \n",
      "A value is trying to be set on a copy of a slice from a DataFrame.\n",
      "Try using .loc[row_indexer,col_indexer] = value instead\n",
      "\n",
      "See the caveats in the documentation: https://pandas.pydata.org/pandas-docs/stable/user_guide/indexing.html#returning-a-view-versus-a-copy\n",
      "  df_goals_season['matched_name'] = df_goals_season['Player'].apply(lambda x: fuzzy_match(x, fpl_next_season['name'].tolist()))\n"
     ]
    },
    {
     "name": "stdout",
     "output_type": "stream",
     "text": [
      "2019\n"
     ]
    },
    {
     "name": "stderr",
     "output_type": "stream",
     "text": [
      "C:\\Users\\edwar\\AppData\\Local\\Temp\\ipykernel_4892\\2621328893.py:24: SettingWithCopyWarning: \n",
      "A value is trying to be set on a copy of a slice from a DataFrame.\n",
      "Try using .loc[row_indexer,col_indexer] = value instead\n",
      "\n",
      "See the caveats in the documentation: https://pandas.pydata.org/pandas-docs/stable/user_guide/indexing.html#returning-a-view-versus-a-copy\n",
      "  df_goals_season['matched_name'] = df_goals_season['Player'].apply(lambda x: fuzzy_match(x, fpl_next_season['name'].tolist()))\n"
     ]
    },
    {
     "name": "stdout",
     "output_type": "stream",
     "text": [
      "2020\n"
     ]
    },
    {
     "name": "stderr",
     "output_type": "stream",
     "text": [
      "C:\\Users\\edwar\\AppData\\Local\\Temp\\ipykernel_4892\\2621328893.py:24: SettingWithCopyWarning: \n",
      "A value is trying to be set on a copy of a slice from a DataFrame.\n",
      "Try using .loc[row_indexer,col_indexer] = value instead\n",
      "\n",
      "See the caveats in the documentation: https://pandas.pydata.org/pandas-docs/stable/user_guide/indexing.html#returning-a-view-versus-a-copy\n",
      "  df_goals_season['matched_name'] = df_goals_season['Player'].apply(lambda x: fuzzy_match(x, fpl_next_season['name'].tolist()))\n"
     ]
    },
    {
     "name": "stdout",
     "output_type": "stream",
     "text": [
      "2021\n"
     ]
    },
    {
     "name": "stderr",
     "output_type": "stream",
     "text": [
      "C:\\Users\\edwar\\AppData\\Local\\Temp\\ipykernel_4892\\2621328893.py:24: SettingWithCopyWarning: \n",
      "A value is trying to be set on a copy of a slice from a DataFrame.\n",
      "Try using .loc[row_indexer,col_indexer] = value instead\n",
      "\n",
      "See the caveats in the documentation: https://pandas.pydata.org/pandas-docs/stable/user_guide/indexing.html#returning-a-view-versus-a-copy\n",
      "  df_goals_season['matched_name'] = df_goals_season['Player'].apply(lambda x: fuzzy_match(x, fpl_next_season['name'].tolist()))\n"
     ]
    },
    {
     "name": "stdout",
     "output_type": "stream",
     "text": [
      "2022\n",
      "2023\n"
     ]
    },
    {
     "name": "stderr",
     "output_type": "stream",
     "text": [
      "C:\\Users\\edwar\\AppData\\Local\\Temp\\ipykernel_4892\\2621328893.py:24: SettingWithCopyWarning: \n",
      "A value is trying to be set on a copy of a slice from a DataFrame.\n",
      "Try using .loc[row_indexer,col_indexer] = value instead\n",
      "\n",
      "See the caveats in the documentation: https://pandas.pydata.org/pandas-docs/stable/user_guide/indexing.html#returning-a-view-versus-a-copy\n",
      "  df_goals_season['matched_name'] = df_goals_season['Player'].apply(lambda x: fuzzy_match(x, fpl_next_season['name'].tolist()))\n"
     ]
    }
   ],
   "source": [
    "import pandas as pd\n",
    "from fuzzywuzzy import process\n",
    "\n",
    "\n",
    "# Function to fuzzy match player names\n",
    "def fuzzy_match(player, choices):\n",
    "    match, score = process.extractOne(player, choices)\n",
    "    return match if score > 95 else None  # Only consider matches with a score above 80\n",
    "\n",
    "# List to collect the result of each iteration\n",
    "results = []\n",
    "\n",
    "# Step 1: Loop through each unique season in df_goals\n",
    "for season in df_goals['season_start'].unique():\n",
    "    print(season)\n",
    "    # Step 2: Get df_goals for the current season\n",
    "    df_goals_season = df_goals[df_goals['season_start'] == season]\n",
    "    \n",
    "    # Step 3: Get fpl_df for the next season (season + 1)\n",
    "    fpl_next_season = fpl_df[fpl_df['season_start'] == season + 1]\n",
    "    \n",
    "    if not fpl_next_season.empty:\n",
    "        # Step 4: Apply fuzzy matching on 'Player' and 'name' columns\n",
    "        df_goals_season['matched_name'] = df_goals_season['Player'].apply(lambda x: fuzzy_match(x, fpl_next_season['name'].tolist()))\n",
    "        \n",
    "        # Step 5: Merge df_goals_season with fpl_next_season on fuzzy matched names and season\n",
    "        merged = pd.merge(df_goals_season, fpl_next_season, left_on='matched_name', right_on='name')\n",
    "        \n",
    "        # Step 6: Append the merged result to the results list\n",
    "        results.append(merged)\n",
    "\n",
    "# Step 7: Concatenate all results into a single DataFrame\n",
    "final_df = pd.concat(results, ignore_index=True)\n",
    "\n",
    "#final_df"
   ]
  },
  {
   "cell_type": "code",
   "execution_count": 9,
   "metadata": {},
   "outputs": [],
   "source": [
    "team_name_mapping = {\n",
    "    \"Burnley FC\": \"Burnley\",\n",
    "    \"Fulham FC\": \"Fulham\",\n",
    "    \"Hull City\": \"Hull\",\n",
    "    \"Brighton & Hove Albion\": \"Brighton\",\n",
    "    \"Huddersfield Town\": \"Huddersfield\",\n",
    "    \"Middlesbrough FC\": \"Middlesbrough\",\n",
    "    \"Wolverhampton Wanderers\": \"Wolves\",\n",
    "    \"Sheffield United\": \"Sheffield Utd\",\n",
    "    \"Leeds United\": \"Leeds\",\n",
    "    \"Watford FC\": \"Watford\",\n",
    "    \"Brentford FC\": \"Brentford\",\n",
    "    \"Cardiff City\": \"Cardiff\",\n",
    "    \"Ipswich Town\": \"Ipswich\",\n",
    "    \"Nottingham Forest\": \"Nott'm Forest\",\n",
    "    \"Newcastle United\": \"Newcastle\",\n",
    "    \"Norwich City\": \"Norwich\",\n",
    "    \"Luton Town\": \"Luton\",\n",
    "    \"Leicester City\": \"Leicester\",\n",
    "    \"AFC Bournemouth\": \"Bournemouth\",\n",
    "    \"Southampton FC\": \"Southampton\",\n",
    "    \"West Bromwich Albion\": \"West Brom\",\n",
    "}\n",
    "\n",
    "# Replace team names using the mapping\n",
    "final_df[\"Team\"] = final_df[\"Team\"].replace(team_name_mapping)\n",
    "\n",
    "# Remove players already identified (i.e. where they have stayed in the promoted team)\n",
    "final_df = final_df[final_df['Team'] != final_df['team']]"
   ]
  },
  {
   "cell_type": "code",
   "execution_count": 10,
   "metadata": {},
   "outputs": [],
   "source": [
    "goals_championship_fpl_points = pd.read_csv(\n",
    "    \"data/analysis/goals_championship_fpl_points.csv\"\n",
    ")"
   ]
  },
  {
   "cell_type": "code",
   "execution_count": 17,
   "metadata": {},
   "outputs": [],
   "source": [
    "final_df[\"Player (FPL Season)\"] = final_df[\"Player\"] + \" (\" + final_df[\"season\"] + \")\"\n",
    "\n",
    "final_df[\"Player (FPL Season) - Short\"] = (\n",
    "        final_df[\"Player\"].apply(lambda x: \" \".join(x.split(\" \")[1:]))\n",
    "        + \": \"\n",
    "        + final_df[\"season\"].str[-5:].replace(\"-\", \"/\")\n",
    "    )"
   ]
  },
  {
   "cell_type": "code",
   "execution_count": 36,
   "metadata": {},
   "outputs": [],
   "source": [
    "rename_mapping = {\n",
    "    'Player': 'Player',\n",
    "    'Team': 'Championship Team',\n",
    "    'position': 'Position',\n",
    "    'Season': 'Championship Season',\n",
    "    'Goals': 'Championship Goals',\n",
    "    'season': 'FPL Season',\n",
    "    'team' : 'FPL Team',\n",
    "    'total_points': 'FPL Points',\n",
    "    'goals_scored': 'FPL Goals',\n",
    "    'assists': 'FPL Assists',\n",
    "    'value_first_gw': 'FPL Value',\n",
    "}\n",
    "\n",
    "# Rename the columns in final_df\n",
    "final_df_renamed = final_df.rename(columns=rename_mapping)\n",
    "\n",
    "# Select only the columns that are in goals_championship_fpl_points and both team names\n",
    "selected_columns = goals_championship_fpl_points.columns.tolist()\n",
    "selected_columns=selected_columns + ['Championship Team', 'FPL Team']\n",
    "selected_columns.remove('Team')\n",
    "\n",
    "final_df_selected = final_df_renamed[selected_columns]\n",
    "\n",
    "# Concatenate DataFrames\n",
    "combined_df = pd.concat([goals_championship_fpl_points, final_df_selected], ignore_index=True)\n",
    "\n",
    "# Combine columns due to different names in the concat\n",
    "combined_df['Championship Team'] = combined_df['Championship Team'].fillna(combined_df['Team'])\n",
    "combined_df['FPL Team'] = combined_df['FPL Team'].fillna(combined_df['Team'])\n",
    "combined_df = combined_df.drop('Team', axis=1)\n",
    "\n",
    "# Select distinct rows\n",
    "distinct_df = combined_df.drop_duplicates()\n"
   ]
  },
  {
   "cell_type": "code",
   "execution_count": 37,
   "metadata": {},
   "outputs": [
    {
     "data": {
      "text/html": [
       "<div>\n",
       "<style scoped>\n",
       "    .dataframe tbody tr th:only-of-type {\n",
       "        vertical-align: middle;\n",
       "    }\n",
       "\n",
       "    .dataframe tbody tr th {\n",
       "        vertical-align: top;\n",
       "    }\n",
       "\n",
       "    .dataframe thead th {\n",
       "        text-align: right;\n",
       "    }\n",
       "</style>\n",
       "<table border=\"1\" class=\"dataframe\">\n",
       "  <thead>\n",
       "    <tr style=\"text-align: right;\">\n",
       "      <th></th>\n",
       "      <th>Player</th>\n",
       "      <th>Position</th>\n",
       "      <th>Championship Season</th>\n",
       "      <th>Championship Goals</th>\n",
       "      <th>FPL Season</th>\n",
       "      <th>FPL Points</th>\n",
       "      <th>FPL Goals</th>\n",
       "      <th>FPL Assists</th>\n",
       "      <th>FPL Value</th>\n",
       "      <th>Player (FPL Season)</th>\n",
       "      <th>Player (FPL Season) - Short</th>\n",
       "      <th>Championship Team</th>\n",
       "      <th>FPL Team</th>\n",
       "    </tr>\n",
       "  </thead>\n",
       "  <tbody>\n",
       "    <tr>\n",
       "      <th>13</th>\n",
       "      <td>Patrick Bamford</td>\n",
       "      <td>FWD</td>\n",
       "      <td>2019-20</td>\n",
       "      <td>16</td>\n",
       "      <td>2020-21</td>\n",
       "      <td>194.0</td>\n",
       "      <td>17.0</td>\n",
       "      <td>11.0</td>\n",
       "      <td>55.0</td>\n",
       "      <td>Patrick Bamford (2020-21)</td>\n",
       "      <td>Bamford: 20/21</td>\n",
       "      <td>Leeds</td>\n",
       "      <td>Leeds</td>\n",
       "    </tr>\n",
       "    <tr>\n",
       "      <th>98</th>\n",
       "      <td>Stuart Dallas</td>\n",
       "      <td>DEF</td>\n",
       "      <td>2019-20</td>\n",
       "      <td>5</td>\n",
       "      <td>2020-21</td>\n",
       "      <td>171.0</td>\n",
       "      <td>8.0</td>\n",
       "      <td>3.0</td>\n",
       "      <td>45.0</td>\n",
       "      <td>Stuart Dallas (2020-21)</td>\n",
       "      <td>Dallas: 20/21</td>\n",
       "      <td>Leeds</td>\n",
       "      <td>Leeds</td>\n",
       "    </tr>\n",
       "    <tr>\n",
       "      <th>360</th>\n",
       "      <td>Ollie Watkins</td>\n",
       "      <td>FWD</td>\n",
       "      <td>2019-2020</td>\n",
       "      <td>25</td>\n",
       "      <td>2020-21</td>\n",
       "      <td>168.0</td>\n",
       "      <td>14.0</td>\n",
       "      <td>9.0</td>\n",
       "      <td>60.0</td>\n",
       "      <td>Ollie Watkins (2020-21)</td>\n",
       "      <td>Watkins: 20-21</td>\n",
       "      <td>Brentford</td>\n",
       "      <td>Aston Villa</td>\n",
       "    </tr>\n",
       "    <tr>\n",
       "      <th>78</th>\n",
       "      <td>Jack Harrison</td>\n",
       "      <td>MID</td>\n",
       "      <td>2019-20</td>\n",
       "      <td>6</td>\n",
       "      <td>2020-21</td>\n",
       "      <td>160.0</td>\n",
       "      <td>8.0</td>\n",
       "      <td>10.0</td>\n",
       "      <td>55.0</td>\n",
       "      <td>Jack Harrison (2020-21)</td>\n",
       "      <td>Harrison: 20/21</td>\n",
       "      <td>Leeds</td>\n",
       "      <td>Leeds</td>\n",
       "    </tr>\n",
       "    <tr>\n",
       "      <th>58</th>\n",
       "      <td>Matheus Pereira</td>\n",
       "      <td>MID</td>\n",
       "      <td>2019-20</td>\n",
       "      <td>8</td>\n",
       "      <td>2020-21</td>\n",
       "      <td>153.0</td>\n",
       "      <td>11.0</td>\n",
       "      <td>7.0</td>\n",
       "      <td>60.0</td>\n",
       "      <td>Matheus Pereira (2020-21)</td>\n",
       "      <td>Pereira: 20/21</td>\n",
       "      <td>West Brom</td>\n",
       "      <td>West Brom</td>\n",
       "    </tr>\n",
       "    <tr>\n",
       "      <th>80</th>\n",
       "      <td>Jack Grealish</td>\n",
       "      <td>MID</td>\n",
       "      <td>2018-19</td>\n",
       "      <td>6</td>\n",
       "      <td>2019-20</td>\n",
       "      <td>149.0</td>\n",
       "      <td>8.0</td>\n",
       "      <td>7.0</td>\n",
       "      <td>60.0</td>\n",
       "      <td>Jack Grealish (2019-20)</td>\n",
       "      <td>Grealish: 19/20</td>\n",
       "      <td>Aston Villa</td>\n",
       "      <td>Aston Villa</td>\n",
       "    </tr>\n",
       "    <tr>\n",
       "      <th>11</th>\n",
       "      <td>Carlton Morris</td>\n",
       "      <td>FWD</td>\n",
       "      <td>2022-23</td>\n",
       "      <td>20</td>\n",
       "      <td>2023-24</td>\n",
       "      <td>146.0</td>\n",
       "      <td>11.0</td>\n",
       "      <td>6.0</td>\n",
       "      <td>55.0</td>\n",
       "      <td>Carlton Morris (2023-24)</td>\n",
       "      <td>Morris: 23/24</td>\n",
       "      <td>Luton</td>\n",
       "      <td>Luton</td>\n",
       "    </tr>\n",
       "    <tr>\n",
       "      <th>379</th>\n",
       "      <td>Morgan Gibbs-White</td>\n",
       "      <td>MID</td>\n",
       "      <td>2021-2022</td>\n",
       "      <td>11</td>\n",
       "      <td>2022-23</td>\n",
       "      <td>145.0</td>\n",
       "      <td>5.0</td>\n",
       "      <td>12.0</td>\n",
       "      <td>55.0</td>\n",
       "      <td>Morgan Gibbs-White (2022-23)</td>\n",
       "      <td>Gibbs-White: 22-23</td>\n",
       "      <td>Sheffield Utd</td>\n",
       "      <td>Nott'm Forest</td>\n",
       "    </tr>\n",
       "    <tr>\n",
       "      <th>123</th>\n",
       "      <td>Matt Doherty</td>\n",
       "      <td>DEF</td>\n",
       "      <td>2017-18</td>\n",
       "      <td>4</td>\n",
       "      <td>2018-19</td>\n",
       "      <td>144.0</td>\n",
       "      <td>4.0</td>\n",
       "      <td>7.0</td>\n",
       "      <td>45.0</td>\n",
       "      <td>Matt Doherty (2018-19)</td>\n",
       "      <td>Doherty: 18/19</td>\n",
       "      <td>Wolves</td>\n",
       "      <td>Wolves</td>\n",
       "    </tr>\n",
       "    <tr>\n",
       "      <th>108</th>\n",
       "      <td>Enda Stevens</td>\n",
       "      <td>DEF</td>\n",
       "      <td>2018-19</td>\n",
       "      <td>4</td>\n",
       "      <td>2019-20</td>\n",
       "      <td>142.0</td>\n",
       "      <td>2.0</td>\n",
       "      <td>4.0</td>\n",
       "      <td>50.0</td>\n",
       "      <td>Enda Stevens (2019-20)</td>\n",
       "      <td>Stevens: 19/20</td>\n",
       "      <td>Sheffield Utd</td>\n",
       "      <td>Sheffield Utd</td>\n",
       "    </tr>\n",
       "  </tbody>\n",
       "</table>\n",
       "</div>"
      ],
      "text/plain": [
       "                 Player Position Championship Season  Championship Goals  \\\n",
       "13      Patrick Bamford      FWD             2019-20                  16   \n",
       "98        Stuart Dallas      DEF             2019-20                   5   \n",
       "360       Ollie Watkins      FWD           2019-2020                  25   \n",
       "78        Jack Harrison      MID             2019-20                   6   \n",
       "58      Matheus Pereira      MID             2019-20                   8   \n",
       "80        Jack Grealish      MID             2018-19                   6   \n",
       "11       Carlton Morris      FWD             2022-23                  20   \n",
       "379  Morgan Gibbs-White      MID           2021-2022                  11   \n",
       "123        Matt Doherty      DEF             2017-18                   4   \n",
       "108        Enda Stevens      DEF             2018-19                   4   \n",
       "\n",
       "    FPL Season  FPL Points  FPL Goals  FPL Assists  FPL Value  \\\n",
       "13     2020-21       194.0       17.0         11.0       55.0   \n",
       "98     2020-21       171.0        8.0          3.0       45.0   \n",
       "360    2020-21       168.0       14.0          9.0       60.0   \n",
       "78     2020-21       160.0        8.0         10.0       55.0   \n",
       "58     2020-21       153.0       11.0          7.0       60.0   \n",
       "80     2019-20       149.0        8.0          7.0       60.0   \n",
       "11     2023-24       146.0       11.0          6.0       55.0   \n",
       "379    2022-23       145.0        5.0         12.0       55.0   \n",
       "123    2018-19       144.0        4.0          7.0       45.0   \n",
       "108    2019-20       142.0        2.0          4.0       50.0   \n",
       "\n",
       "              Player (FPL Season) Player (FPL Season) - Short  \\\n",
       "13      Patrick Bamford (2020-21)              Bamford: 20/21   \n",
       "98        Stuart Dallas (2020-21)               Dallas: 20/21   \n",
       "360       Ollie Watkins (2020-21)              Watkins: 20-21   \n",
       "78        Jack Harrison (2020-21)             Harrison: 20/21   \n",
       "58      Matheus Pereira (2020-21)              Pereira: 20/21   \n",
       "80        Jack Grealish (2019-20)             Grealish: 19/20   \n",
       "11       Carlton Morris (2023-24)               Morris: 23/24   \n",
       "379  Morgan Gibbs-White (2022-23)          Gibbs-White: 22-23   \n",
       "123        Matt Doherty (2018-19)              Doherty: 18/19   \n",
       "108        Enda Stevens (2019-20)              Stevens: 19/20   \n",
       "\n",
       "    Championship Team       FPL Team  \n",
       "13              Leeds          Leeds  \n",
       "98              Leeds          Leeds  \n",
       "360         Brentford    Aston Villa  \n",
       "78              Leeds          Leeds  \n",
       "58          West Brom      West Brom  \n",
       "80        Aston Villa    Aston Villa  \n",
       "11              Luton          Luton  \n",
       "379     Sheffield Utd  Nott'm Forest  \n",
       "123            Wolves         Wolves  \n",
       "108     Sheffield Utd  Sheffield Utd  "
      ]
     },
     "execution_count": 37,
     "metadata": {},
     "output_type": "execute_result"
    }
   ],
   "source": [
    "distinct_df.sort_values('FPL Points',ascending=False).head(10)"
   ]
  }
 ],
 "metadata": {
  "kernelspec": {
   "display_name": "Python 3",
   "language": "python",
   "name": "python3"
  },
  "language_info": {
   "codemirror_mode": {
    "name": "ipython",
    "version": 3
   },
   "file_extension": ".py",
   "mimetype": "text/x-python",
   "name": "python",
   "nbconvert_exporter": "python",
   "pygments_lexer": "ipython3",
   "version": "3.11.7"
  }
 },
 "nbformat": 4,
 "nbformat_minor": 2
}
