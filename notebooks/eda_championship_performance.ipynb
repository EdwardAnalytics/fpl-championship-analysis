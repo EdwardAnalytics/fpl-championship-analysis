{
 "cells": [
  {
   "cell_type": "code",
   "execution_count": null,
   "metadata": {},
   "outputs": [],
   "source": [
    "# Comparing top ten assits and goals in the championship vs performance next season"
   ]
  },
  {
   "cell_type": "code",
   "execution_count": 1,
   "metadata": {},
   "outputs": [],
   "source": [
    "# # Plus transfers from championship teams to prem (LLM generated - check this)\n",
    "\n",
    "# Year\tPremier League Club\tPlayer Name\tFrom (Championship Club)\tTransfer Fee (Approx.)\n",
    "# 2015\tTottenham Hotspur\tDele Alli\tMK Dons (League One)\t£5 million\n",
    "# 2015\tBournemouth\tTyrone Mings\tIpswich Town\t£8 million\n",
    "# 2016\tBurnley\tAndre Gray\tBrentford\t£9 million\n",
    "# 2016\tMiddlesbrough\tMarten de Roon\tAtalanta (relegated)\t£12 million\n",
    "# 2017\tLeicester City\tHarry Maguire\tHull City\t£17 million\n",
    "# 2017\tNewcastle United\tJacob Murphy\tNorwich City\t£12 million\n",
    "# 2018\tWolverhampton Wanderers\tAdama Traoré\tMiddlesbrough\t£18 million\n",
    "# 2018\tFulham\tAleksandar Mitrović\tNewcastle United (relegated)\t£22 million\n",
    "# 2019\tAston Villa\tTyrone Mings\tBournemouth (loan in Championship)\t£20 million\n",
    "# 2019\tSheffield United\tOli McBurnie\tSwansea City\t£17 million\n",
    "# 2020\tAston Villa\tOllie Watkins\tBrentford\t£28 million\n",
    "# 2020\tLeeds United\tIllan Meslier\tLorient (relegated)\t£5 million\n",
    "# 2021\tBrentford\tIvan Toney\tPeterborough United\t£10 million\n",
    "# 2021\tNorwich City\tMilot Rashica\tWerder Bremen (relegated)\t£9 million\n",
    "# 2022\tNewcastle United\tNick Pope\tBurnley\t£10 million\n",
    "# 2023\tTottenham Hotspur\tBrennan Johnson\tNottingham Forest\t£45 million"
   ]
  }
 ],
 "metadata": {
  "kernelspec": {
   "display_name": "Python 3",
   "language": "python",
   "name": "python3"
  },
  "language_info": {
   "codemirror_mode": {
    "name": "ipython",
    "version": 3
   },
   "file_extension": ".py",
   "mimetype": "text/x-python",
   "name": "python",
   "nbconvert_exporter": "python",
   "pygments_lexer": "ipython3",
   "version": "3.11.7"
  }
 },
 "nbformat": 4,
 "nbformat_minor": 2
}
