{
 "cells": [
  {
   "cell_type": "code",
   "execution_count": 1,
   "metadata": {},
   "outputs": [],
   "source": [
    "# Change directory to level up to import functions\n",
    "import os\n",
    "os.chdir('..')"
   ]
  },
  {
   "cell_type": "markdown",
   "metadata": {},
   "source": [
    "#### Background\n",
    "This analysis look at the Fantasy Premier League (FPL) performance of players from Championship teams, in their first season after being promoted to the Preimier League. See notes and caveats at the end.\n",
    "\n",
    "The following areas are looked into:\n",
    "* An exploratory data analysis of how these players perform.\n",
    "  * Top performances from players in promoted teams\n",
    "  * Top total team points from promoted teams\n",
    "  * Championship goals and assits vs FPL Points in the following season\n",
    "* A comparison of players from promoted teams with players from teams already in the league.\n",
    "  * Overview of differences for each price point by position (link to ttest eli5/youtube vidoe)\n",
    "  * £5.0m midfielders detail\n",
    "\n",
    "#### Key Findings\n",
    "* In general, avoid £5.0m midfielders from newly promoted teams; consider players from others teams instead.\n",
    "* There is no statistically significant difference in player performance from promoted vs existing teams at other price points or positions, by different team strengths.\n",
    "* Goals and assists in the Championship don’t always translate into Fantasy Premier League (FPL) points the following season.\n",
    "* Patrick Bamford had a good season in 2020/21."
   ]
  },
  {
   "cell_type": "code",
   "execution_count": null,
   "metadata": {},
   "outputs": [],
   "source": []
  },
  {
   "cell_type": "markdown",
   "metadata": {},
   "source": [
    "#### Notes and Caveats\n",
    "\n",
    "\n",
    "Other things I assessed \n",
    "Experiemneted with different thresholds of definition for games played (mins/gws)\n",
    "Built models to predict scores to see if championship flag was an important feature/significant. Similar restults to t tests.\n",
    "\n",
    "Note this isn't looking only at players who played in the chapmionship the season before. It includes new signings that season.\n",
    "\n",
    "We're only looking at players in teams promoted. \n",
    "Not players from promoted teams as that can be influnced by the strength of the club they are going to. \n",
    "E.g. When Tottenham signed Bale etc. This would be a seperate piece of analysis assesing the impact of signings \n",
    "from dif"
   ]
  }
 ],
 "metadata": {
  "kernelspec": {
   "display_name": "Python 3",
   "language": "python",
   "name": "python3"
  },
  "language_info": {
   "codemirror_mode": {
    "name": "ipython",
    "version": 3
   },
   "file_extension": ".py",
   "mimetype": "text/x-python",
   "name": "python",
   "nbconvert_exporter": "python",
   "pygments_lexer": "ipython3",
   "version": "3.11.7"
  }
 },
 "nbformat": 4,
 "nbformat_minor": 2
}
