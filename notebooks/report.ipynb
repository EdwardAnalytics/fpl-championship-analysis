{
 "cells": [
  {
   "cell_type": "code",
   "execution_count": 1,
   "metadata": {},
   "outputs": [],
   "source": [
    "# Change directory to level up to import functions\n",
    "import os\n",
    "os.chdir('..')"
   ]
  },
  {
   "cell_type": "code",
   "execution_count": null,
   "metadata": {},
   "outputs": [],
   "source": [
    "## Summary\n",
    "# In general, avoid 5.0 mids from team's who have just been promoted, get a 5.0 mid from another team\n",
    "# Otherwise, there's no statisticaly significant difference at other price points or positions, by different team strength\n",
    "# Championship goals and assits do not always translate to FPL points the next season\n",
    "# Patrick Bamford had a good season in 2020/21\n",
    "\n",
    "# Note this isn't looking only at players who played in the chapmionship the season before. It includes new signings that season.\n",
    "\n",
    "# This analysis covers\n",
    "# Overview of price points by position (link to ttest eli5/youtube vidoe)\n",
    "# Player overview? scatter plot value vs points \n",
    "# 5.0 Midfielders Detail -- Box plot this\n",
    "# Top Performances in Promoted Teams (the outliers)\n",
    "# Championship goals and assits vs FPL Points\n",
    "\n",
    "# Other things I assessed \n",
    "# Experiemneted with different thresholds of definition for games played (mins/gws)\n",
    "# Built models to predict scores to see if championship flag was an important feature/significant. Similar restults to t tests.\n",
    "\n",
    "# We're only looking at players in teams promoted. \n",
    "# Not players from promoted teams as that can be influnced by the strength of the club they are going to. \n",
    "# E.g. When Tottenham signed Bale etc. This would be a seperate piece of analysis assesing the impact of signings \n",
    "# from dif"
   ]
  }
 ],
 "metadata": {
  "kernelspec": {
   "display_name": "Python 3",
   "language": "python",
   "name": "python3"
  },
  "language_info": {
   "codemirror_mode": {
    "name": "ipython",
    "version": 3
   },
   "file_extension": ".py",
   "mimetype": "text/x-python",
   "name": "python",
   "nbconvert_exporter": "python",
   "pygments_lexer": "ipython3",
   "version": "3.11.7"
  }
 },
 "nbformat": 4,
 "nbformat_minor": 2
}
